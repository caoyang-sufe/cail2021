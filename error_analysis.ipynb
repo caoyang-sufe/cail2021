{
 "cells": [
  {
   "cell_type": "markdown",
   "metadata": {
    "toc": true
   },
   "source": [
    "<h1>Table of Contents<span class=\"tocSkip\"></span></h1>\n",
    "<div class=\"toc\"><ul class=\"toc-item\"><li><span><a href=\"#参考段落检查\" data-toc-modified-id=\"参考段落检查-1\"><span class=\"toc-item-num\">1&nbsp;&nbsp;</span>参考段落检查</a></span></li></ul></div>"
   ]
  },
  {
   "cell_type": "code",
   "execution_count": 1,
   "metadata": {
    "ExecuteTime": {
     "end_time": "2022-02-13T09:05:03.720206Z",
     "start_time": "2022-02-13T09:04:54.635621Z"
    }
   },
   "outputs": [],
   "source": [
    "import os\n",
    "import time\n",
    "import json\n",
    "import torch\n",
    "import numpy\n",
    "import pandas\n",
    "import logging\n",
    "\n",
    "from torch.autograd import Variable\n",
    "from torch.nn import CrossEntropyLoss, BCELoss\n",
    "from torch.optim import Adam, lr_scheduler\n",
    "from sklearn.metrics import auc, confusion_matrix, accuracy_score, roc_auc_score\n",
    "\n",
    "from setting import *\n",
    "from config import QAModelConfig, DatasetConfig\n",
    "\n",
    "from src.dataset import generate_dataloader, Dataset\n",
    "from src.evaluation_tools import evaluate_qa_model_choice, evaluate_qa_model_judgment, evaluate_classifier\n",
    "from src.plot_tools import plot_roc_curve, plot_pr_curve\n",
    "from src.qa_model import BaseChoiceModel, BaseJudgmentModel, ReferenceChoiceModel, ReferenceJudgmentModel\n",
    "from src.torch_tools import save_checkpoint, load_checkpoint\n",
    "from src.utils import initialize_logger, terminate_logger, load_args, save_args\n"
   ]
  },
  {
   "cell_type": "markdown",
   "metadata": {
    "toc": true
   },
   "source": [
    "# 参考段落检查"
   ]
  },
  {
   "cell_type": "code",
   "execution_count": 2,
   "metadata": {
    "ExecuteTime": {
     "end_time": "2022-02-13T09:11:36.691801Z",
     "start_time": "2022-02-13T09:05:03.720206Z"
    }
   },
   "outputs": [
    {
     "name": "stderr",
     "output_type": "stream",
     "text": [
      "usage: -- [-h] [--filter_stopword FILTER_STOPWORD]\n",
      "          [--retrieval_model_name RETRIEVAL_MODEL_NAME]\n",
      "          [--num_top_subject NUM_TOP_SUBJECT]\n",
      "          [--num_best_per_subject NUM_BEST_PER_SUBJECT]\n",
      "          [--use_reference USE_REFERENCE] [--use_userdict USE_USERDICT]\n",
      "          [--train_batch_size TRAIN_BATCH_SIZE]\n",
      "          [--valid_batch_size VALID_BATCH_SIZE]\n",
      "          [--test_batch_size TEST_BATCH_SIZE]\n",
      "          [--max_reference_length MAX_REFERENCE_LENGTH]\n",
      "          [--max_statement_length MAX_STATEMENT_LENGTH]\n",
      "          [--max_option_length MAX_OPTION_LENGTH]\n",
      "          [--word_embedding WORD_EMBEDDING]\n",
      "          [--document_embedding DOCUMENT_EMBEDDING] [--num_epoch NUM_EPOCH]\n",
      "          [--lr_multiplier LR_MULTIPLIER] [--learning_rate LEARNING_RATE]\n",
      "          [--weight_decay WEIGHT_DECAY] [--do_valid DO_VALID]\n",
      "          [--do_valid_plot DO_VALID_PLOT] [--num_best NUM_BEST]\n",
      "          [--num_workers NUM_WORKERS]\n",
      "--: error: unrecognized arguments: -f C:\\Users\\caoyang\\AppData\\Roaming\\jupyter\\runtime\\kernel-ff1424b4-15a4-490c-b5e1-e9f5e962617a.json\n",
      "usage: -- [-h] [--filter_stopword FILTER_STOPWORD]\n",
      "          [--retrieval_model_name RETRIEVAL_MODEL_NAME]\n",
      "          [--num_top_subject NUM_TOP_SUBJECT]\n",
      "          [--num_best_per_subject NUM_BEST_PER_SUBJECT]\n",
      "          [--use_reference USE_REFERENCE] [--use_userdict USE_USERDICT]\n",
      "          [--train_batch_size TRAIN_BATCH_SIZE]\n",
      "          [--valid_batch_size VALID_BATCH_SIZE]\n",
      "          [--test_batch_size TEST_BATCH_SIZE]\n",
      "          [--max_reference_length MAX_REFERENCE_LENGTH]\n",
      "          [--max_statement_length MAX_STATEMENT_LENGTH]\n",
      "          [--max_option_length MAX_OPTION_LENGTH]\n",
      "          [--word_embedding WORD_EMBEDDING]\n",
      "          [--document_embedding DOCUMENT_EMBEDDING] [--num_epoch NUM_EPOCH]\n",
      "          [--lr_multiplier LR_MULTIPLIER] [--learning_rate LEARNING_RATE]\n",
      "          [--weight_decay WEIGHT_DECAY] [--do_valid DO_VALID]\n",
      "          [--do_valid_plot DO_VALID_PLOT] [--num_best NUM_BEST]\n",
      "          [--smartirs_tfidf SMARTIRS_TFIDF] [--pivot_tfidf PIVOT_TFIDF]\n",
      "          [--slope_tfidf SLOPE_TFIDF] [--num_topics_lsi NUM_TOPICS_LSI]\n",
      "          [--decay_lsi DECAY_LSI] [--power_iters_lsi POWER_ITERS_LSI]\n",
      "          [--extra_samples_lsi EXTRA_SAMPLES_LSI]\n",
      "          [--num_topics_lda NUM_TOPICS_LDA] [--decay_lda DECAY_LDA]\n",
      "          [--iterations_lda ITERATIONS_LDA]\n",
      "          [--gamma_threshold_lda GAMMA_THRESHOLD_LDA]\n",
      "          [--minimum_probability_lda MINIMUM_PROBABILITY_LDA]\n",
      "          [--kappa_hdp KAPPA_HDP] [--tau_hdp TAU_HDP] [--K_hdp K_HDP]\n",
      "          [--T_hdp T_HDP]\n",
      "--: error: unrecognized arguments: -f C:\\Users\\caoyang\\AppData\\Roaming\\jupyter\\runtime\\kernel-ff1424b4-15a4-490c-b5e1-e9f5e962617a.json\n"
     ]
    },
    {
     "name": "stdout",
     "output_type": "stream",
     "text": [
      "Function `build_similarity` runtime is 2.9344797134399414 seconds.\n",
      "正在导出dataset\n",
      "Function `build_similarity` runtime is 0.011523962020874023 seconds.\n",
      "Function `build_similarity` runtime is 0.33296775817871094 seconds.\n",
      "Function `build_similarity` runtime is 0.25089430809020996 seconds.\n",
      "Function `build_similarity` runtime is 0.04689383506774902 seconds.\n",
      "Function `build_similarity` runtime is 0.1567080020904541 seconds.\n",
      "Function `build_similarity` runtime is 0.32657551765441895 seconds.\n",
      "Function `build_similarity` runtime is 0.1092379093170166 seconds.\n",
      "Function `build_similarity` runtime is 0.10982489585876465 seconds.\n",
      "Function `build_similarity` runtime is 0.10971570014953613 seconds.\n",
      "Function `build_similarity` runtime is 0.1102292537689209 seconds.\n",
      "Function `build_similarity` runtime is 0.2752554416656494 seconds.\n",
      "Function `build_similarity` runtime is 0.3767549991607666 seconds.\n",
      "Function `build_similarity` runtime is 0.062131404876708984 seconds.\n",
      "Function `build_similarity` runtime is 0.047067880630493164 seconds.\n",
      "Function `build_similarity` runtime is 0.07856225967407227 seconds.\n",
      "Function `build_similarity` runtime is 0.04687833786010742 seconds.\n",
      "Function `build_similarity` runtime is 0.14081501960754395 seconds.\n",
      "Function `build_similarity` runtime is 0.2981994152069092 seconds.\n"
     ]
    },
    {
     "name": "stderr",
     "output_type": "stream",
     "text": [
      "D:\\code\\python\\project\\caoyang\\project_011_cail\\cail2021\\src\\dataset.py:638: UserWarning: 文档检索查询数量低于num_best\n",
      "  warnings.warn('文档检索查询数量低于num_best')\n",
      "D:\\code\\python\\project\\caoyang\\project_011_cail\\cail2021\\src\\dataset.py:638: UserWarning: 文档检索查询数量低于num_best\n",
      "  warnings.warn('文档检索查询数量低于num_best')\n",
      "D:\\code\\python\\project\\caoyang\\project_011_cail\\cail2021\\src\\dataset.py:638: UserWarning: 文档检索查询数量低于num_best\n",
      "  warnings.warn('文档检索查询数量低于num_best')\n",
      "D:\\code\\python\\project\\caoyang\\project_011_cail\\cail2021\\src\\dataset.py:638: UserWarning: 文档检索查询数量低于num_best\n",
      "  warnings.warn('文档检索查询数量低于num_best')\n",
      "D:\\code\\python\\project\\caoyang\\project_011_cail\\cail2021\\src\\dataset.py:638: UserWarning: 文档检索查询数量低于num_best\n",
      "  warnings.warn('文档检索查询数量低于num_best')\n",
      "D:\\code\\python\\project\\caoyang\\project_011_cail\\cail2021\\src\\dataset.py:638: UserWarning: 文档检索查询数量低于num_best\n",
      "  warnings.warn('文档检索查询数量低于num_best')\n",
      "D:\\code\\python\\project\\caoyang\\project_011_cail\\cail2021\\src\\dataset.py:638: UserWarning: 文档检索查询数量低于num_best\n",
      "  warnings.warn('文档检索查询数量低于num_best')\n",
      "D:\\code\\python\\project\\caoyang\\project_011_cail\\cail2021\\src\\dataset.py:638: UserWarning: 文档检索查询数量低于num_best\n",
      "  warnings.warn('文档检索查询数量低于num_best')\n",
      "D:\\code\\python\\project\\caoyang\\project_011_cail\\cail2021\\src\\dataset.py:638: UserWarning: 文档检索查询数量低于num_best\n",
      "  warnings.warn('文档检索查询数量低于num_best')\n",
      "D:\\code\\python\\project\\caoyang\\project_011_cail\\cail2021\\src\\dataset.py:638: UserWarning: 文档检索查询数量低于num_best\n",
      "  warnings.warn('文档检索查询数量低于num_best')\n",
      "D:\\code\\python\\project\\caoyang\\project_011_cail\\cail2021\\src\\dataset.py:638: UserWarning: 文档检索查询数量低于num_best\n",
      "  warnings.warn('文档检索查询数量低于num_best')\n",
      "D:\\code\\python\\project\\caoyang\\project_011_cail\\cail2021\\src\\dataset.py:638: UserWarning: 文档检索查询数量低于num_best\n",
      "  warnings.warn('文档检索查询数量低于num_best')\n",
      "D:\\code\\python\\project\\caoyang\\project_011_cail\\cail2021\\src\\dataset.py:638: UserWarning: 文档检索查询数量低于num_best\n",
      "  warnings.warn('文档检索查询数量低于num_best')\n",
      "D:\\code\\python\\project\\caoyang\\project_011_cail\\cail2021\\src\\dataset.py:638: UserWarning: 文档检索查询数量低于num_best\n",
      "  warnings.warn('文档检索查询数量低于num_best')\n"
     ]
    },
    {
     "name": "stdout",
     "output_type": "stream",
     "text": [
      "Function `choice_pipeline` runtime is 392.9249093532562 seconds.\n"
     ]
    }
   ],
   "source": [
    "args = load_args(Config=DatasetConfig)\n",
    "args.use_reference = True\n",
    "args.retrieval_model_name = 'tfidf'\n",
    "args.train_batch_size = 2\n",
    "args.valid_batch_size = 2\n",
    "args.test_batch_size = 2\n",
    "args.word_embedding = None\n",
    "args.document_embedding = None\n",
    "mode = 'train'\n",
    "pipeline = 'choice'\n",
    "for_debug = False\n",
    "do_export = False\n",
    "dataset = Dataset(args=args, \n",
    "                  mode=mode, \n",
    "                  do_export=do_export, \n",
    "                  pipeline=pipeline,\n",
    "                  for_debug=for_debug)"
   ]
  },
  {
   "cell_type": "code",
   "execution_count": 5,
   "metadata": {
    "ExecuteTime": {
     "end_time": "2022-02-12T10:22:06.123052Z",
     "start_time": "2022-02-12T10:22:06.091934Z"
    }
   },
   "outputs": [
    {
     "data": {
      "text/plain": [
       "{'corpus': 'model\\\\retrieval_model\\\\gensim\\\\subject\\\\宪法\\\\reference_tfidf_corpus.cps',\n",
       " 'model': 'model\\\\retrieval_model\\\\gensim\\\\subject\\\\宪法\\\\reference_tfidf.m',\n",
       " 'dictionary': 'model\\\\retrieval_model\\\\gensim\\\\subject\\\\宪法\\\\reference_dictionary.dtn',\n",
       " 'build_function': 'GensimRetrievalModel.build_tfidf_model',\n",
       " 'class': 'gensim.models.TfidfModel',\n",
       " 'sequence': ['tfidf']}"
      ]
     },
     "execution_count": 5,
     "metadata": {},
     "output_type": "execute_result"
    }
   ],
   "source": [
    "GENSIM_RETRIEVAL_MODEL_SUBJECT_SUMMARY['宪法']['summary']['tfidf']"
   ]
  },
  {
   "cell_type": "code",
   "execution_count": 4,
   "metadata": {
    "ExecuteTime": {
     "end_time": "2022-02-12T10:21:50.393531Z",
     "start_time": "2022-02-12T10:21:50.383022Z"
    }
   },
   "outputs": [],
   "source": [
    "import gensim\n",
    "from gensim.corpora import MmCorpus, Dictionary\n",
    "from gensim.similarities import Similarity"
   ]
  },
  {
   "cell_type": "code",
   "execution_count": 8,
   "metadata": {
    "ExecuteTime": {
     "end_time": "2022-02-12T11:55:23.517372Z",
     "start_time": "2022-02-12T11:55:23.454536Z"
    }
   },
   "outputs": [],
   "source": [
    "model = gensim.models.TfidfModel.load(GENSIM_RETRIEVAL_MODEL_SUBJECT_SUMMARY['宪法']['summary']['tfidf']['model'])\n",
    "corpus = MmCorpus(GENSIM_RETRIEVAL_MODEL_SUBJECT_SUMMARY['宪法']['summary']['tfidf']['corpus'])\n",
    "dictionary = Dictionary.load(GENSIM_RETRIEVAL_MODEL_SUBJECT_SUMMARY['宪法']['summary']['tfidf']['dictionary'])"
   ]
  },
  {
   "cell_type": "code",
   "execution_count": 40,
   "metadata": {
    "ExecuteTime": {
     "end_time": "2022-02-12T13:28:30.575351Z",
     "start_time": "2022-02-12T13:28:30.418389Z"
    }
   },
   "outputs": [],
   "source": [
    "similarity = Similarity('gensim_temp', corpus, num_features=len(dictionary), num_best=None)"
   ]
  },
  {
   "cell_type": "code",
   "execution_count": 37,
   "metadata": {
    "ExecuteTime": {
     "end_time": "2022-02-12T13:27:26.626599Z",
     "start_time": "2022-02-12T13:27:26.610919Z"
    }
   },
   "outputs": [],
   "source": [
    "query_tokens = ['下列', '有关', '国体', '和', '政体', '说法', '正确', '的', '是', '?']\n",
    "# query_tokens = ['公民', '行使', '集会', '、', '游行', '、', '示威', '权利', '时应', '向', '主管机关', '提出申请', '并', '获得', '许可', '。', '下列', '选项', '中', '哪些', '属于', '依法', '不予', '许可', '的', '情形', '?']"
   ]
  },
  {
   "cell_type": "code",
   "execution_count": 41,
   "metadata": {
    "ExecuteTime": {
     "end_time": "2022-02-12T13:28:34.253902Z",
     "start_time": "2022-02-12T13:28:34.159551Z"
    }
   },
   "outputs": [],
   "source": [
    "query_corpus = dictionary.doc2bow(query_tokens)\n",
    "query_corpus = model[query_corpus]\n",
    "result = similarity[query_corpus]"
   ]
  },
  {
   "cell_type": "code",
   "execution_count": 34,
   "metadata": {
    "ExecuteTime": {
     "end_time": "2022-02-12T11:59:06.886264Z",
     "start_time": "2022-02-12T11:59:06.870600Z"
    }
   },
   "outputs": [
    {
     "data": {
      "text/plain": [
       "38"
      ]
     },
     "execution_count": 34,
     "metadata": {},
     "output_type": "execute_result"
    }
   ],
   "source": [
    "numpy.count_nonzero(result)"
   ]
  },
  {
   "cell_type": "code",
   "execution_count": 43,
   "metadata": {
    "ExecuteTime": {
     "end_time": "2022-02-12T13:28:54.455769Z",
     "start_time": "2022-02-12T13:28:54.439795Z"
    }
   },
   "outputs": [
    {
     "name": "stdout",
     "output_type": "stream",
     "text": [
      "[0.         0.         0.         0.         0.         0.\n",
      " 0.         0.         0.0929906  0.         0.         0.\n",
      " 0.         0.         0.         0.         0.         0.\n",
      " 0.         0.         0.         0.         0.         0.\n",
      " 0.         0.         0.         0.         0.         0.\n",
      " 0.         0.         0.         0.         0.         0.\n",
      " 0.         0.         0.         0.         0.04905723 0.\n",
      " 0.         0.         0.         0.         0.         0.\n",
      " 0.         0.         0.         0.         0.         0.\n",
      " 0.         0.         0.         0.         0.         0.\n",
      " 0.         0.         0.         0.         0.         0.\n",
      " 0.         0.         0.         0.         0.         0.\n",
      " 0.         0.         0.         0.         0.         0.\n",
      " 0.         0.         0.         0.         0.         0.\n",
      " 0.         0.         0.         0.         0.         0.\n",
      " 0.         0.         0.         0.         0.         0.\n",
      " 0.         0.         0.         0.         0.         0.\n",
      " 0.         0.         0.         0.         0.         0.\n",
      " 0.         0.         0.         0.         0.         0.\n",
      " 0.         0.         0.09448227 0.         0.         0.\n",
      " 0.         0.         0.         0.         0.         0.\n",
      " 0.         0.         0.         0.         0.         0.\n",
      " 0.         0.         0.         0.         0.         0.06240452\n",
      " 0.         0.         0.         0.         0.         0.\n",
      " 0.         0.         0.         0.         0.         0.\n",
      " 0.         0.         0.         0.         0.         0.\n",
      " 0.         0.         0.         0.         0.         0.\n",
      " 0.         0.         0.         0.         0.         0.\n",
      " 0.         0.         0.         0.         0.         0.\n",
      " 0.         0.         0.         0.         0.         0.\n",
      " 0.07245596 0.         0.         0.         0.         0.\n",
      " 0.         0.         0.         0.         0.         0.\n",
      " 0.         0.         0.         0.         0.         0.\n",
      " 0.         0.         0.         0.         0.         0.\n",
      " 0.         0.         0.         0.         0.         0.\n",
      " 0.         0.         0.         0.         0.         0.\n",
      " 0.         0.         0.         0.         0.         0.\n",
      " 0.         0.         0.         0.         0.         0.\n",
      " 0.         0.         0.         0.         0.         0.\n",
      " 0.         0.         0.         0.         0.         0.\n",
      " 0.         0.         0.         0.         0.         0.\n",
      " 0.         0.         0.         0.         0.         0.\n",
      " 0.         0.         0.         0.         0.         0.\n",
      " 0.         0.         0.         0.         0.         0.\n",
      " 0.         0.         0.         0.         0.         0.\n",
      " 0.         0.         0.         0.         0.         0.\n",
      " 0.         0.         0.         0.         0.         0.\n",
      " 0.         0.         0.         0.         0.         0.\n",
      " 0.         0.         0.         0.         0.         0.\n",
      " 0.         0.         0.         0.         0.         0.\n",
      " 0.         0.         0.         0.         0.         0.\n",
      " 0.         0.         0.         0.         0.         0.\n",
      " 0.         0.         0.         0.         0.         0.\n",
      " 0.         0.         0.         0.         0.         0.\n",
      " 0.         0.         0.         0.         0.         0.\n",
      " 0.         0.         0.         0.         0.         0.\n",
      " 0.         0.         0.         0.         0.         0.\n",
      " 0.         0.         0.         0.         0.         0.\n",
      " 0.         0.         0.         0.         0.         0.\n",
      " 0.         0.         0.         0.         0.         0.\n",
      " 0.         0.         0.         0.         0.         0.\n",
      " 0.         0.         0.         0.         0.         0.\n",
      " 0.         0.         0.         0.         0.         0.\n",
      " 0.         0.         0.         0.         0.         0.\n",
      " 0.         0.         0.         0.         0.         0.\n",
      " 0.         0.         0.         0.         0.         0.\n",
      " 0.         0.         0.         0.         0.         0.\n",
      " 0.         0.         0.         0.         0.         0.\n",
      " 0.         0.         0.         0.         0.         0.\n",
      " 0.         0.         0.         0.         0.         0.\n",
      " 0.         0.         0.         0.         0.         0.\n",
      " 0.         0.         0.         0.         0.         0.\n",
      " 0.         0.         0.         0.         0.         0.\n",
      " 0.         0.         0.         0.         0.         0.\n",
      " 0.         0.         0.         0.         0.         0.\n",
      " 0.         0.         0.         0.         0.         0.\n",
      " 0.         0.         0.         0.         0.         0.\n",
      " 0.         0.         0.         0.         0.         0.\n",
      " 0.         0.         0.         0.         0.         0.\n",
      " 0.         0.         0.         0.         0.         0.\n",
      " 0.         0.         0.         0.         0.         0.\n",
      " 0.         0.         0.         0.         0.         0.\n",
      " 0.         0.         0.         0.         0.         0.\n",
      " 0.         0.         0.         0.         0.         0.\n",
      " 0.         0.         0.         0.         0.         0.\n",
      " 0.         0.         0.         0.         0.         0.\n",
      " 0.         0.         0.         0.         0.         0.\n",
      " 0.         0.         0.         0.         0.         0.\n",
      " 0.         0.         0.         0.         0.         0.\n",
      " 0.         0.         0.         0.         0.         0.\n",
      " 0.         0.         0.         0.         0.         0.\n",
      " 0.         0.         0.         0.         0.         0.\n",
      " 0.         0.         0.         0.         0.         0.\n",
      " 0.         0.         0.         0.         0.         0.\n",
      " 0.         0.         0.         0.         0.         0.\n",
      " 0.         0.         0.         0.         0.         0.\n",
      " 0.         0.         0.         0.         0.         0.04327136\n",
      " 0.         0.         0.         0.         0.         0.\n",
      " 0.         0.         0.         0.         0.         0.\n",
      " 0.         0.         0.         0.         0.         0.\n",
      " 0.         0.         0.         0.         0.05284594 0.\n",
      " 0.         0.         0.         0.         0.         0.\n",
      " 0.         0.         0.         0.         0.         0.\n",
      " 0.         0.         0.         0.         0.         0.\n",
      " 0.         0.         0.         0.         0.         0.\n",
      " 0.         0.         0.         0.         0.         0.\n",
      " 0.         0.         0.         0.         0.         0.\n",
      " 0.         0.         0.         0.         0.         0.\n",
      " 0.         0.         0.         0.         0.         0.\n",
      " 0.         0.         0.         0.         0.         0.\n",
      " 0.         0.         0.         0.         0.         0.\n",
      " 0.         0.         0.         0.         0.         0.\n",
      " 0.         0.         0.         0.         0.         0.\n",
      " 0.         0.         0.         0.         0.         0.\n",
      " 0.         0.         0.         0.         0.         0.\n",
      " 0.         0.         0.         0.         0.         0.\n",
      " 0.         0.0500228  0.         0.         0.         0.\n",
      " 0.         0.         0.         0.         0.         0.\n",
      " 0.         0.         0.         0.         0.         0.\n",
      " 0.         0.         0.         0.         0.         0.\n",
      " 0.         0.         0.         0.         0.         0.\n",
      " 0.         0.         0.         0.         0.         0.\n",
      " 0.         0.         0.         0.         0.         0.\n",
      " 0.         0.         0.         0.         0.         0.\n",
      " 0.         0.         0.         0.         0.         0.\n",
      " 0.         0.         0.         0.         0.         0.\n",
      " 0.         0.         0.         0.         0.         0.\n",
      " 0.         0.         0.         0.         0.         0.\n",
      " 0.         0.         0.         0.         0.         0.\n",
      " 0.         0.         0.         0.         0.         0.\n",
      " 0.         0.         0.         0.         0.         0.\n",
      " 0.         0.         0.         0.         0.         0.\n",
      " 0.         0.         0.         0.         0.         0.\n",
      " 0.         0.         0.         0.         0.         0.\n",
      " 0.         0.         0.         0.         0.         0.\n",
      " 0.         0.         0.         0.         0.         0.\n",
      " 0.         0.         0.         0.         0.         0.\n",
      " 0.         0.         0.         0.         0.         0.\n",
      " 0.         0.         0.         0.         0.         0.\n",
      " 0.         0.         0.         0.         0.         0.\n",
      " 0.         0.         0.         0.         0.         0.\n",
      " 0.         0.         0.         0.         0.         0.\n",
      " 0.         0.         0.         0.         0.         0.\n",
      " 0.         0.         0.         0.         0.         0.\n",
      " 0.         0.         0.         0.         0.         0.\n",
      " 0.         0.         0.         0.         0.         0.\n",
      " 0.06101685 0.         0.         0.         0.         0.\n",
      " 0.         0.         0.         0.         0.         0.\n",
      " 0.         0.         0.         0.         0.         0.\n",
      " 0.         0.         0.         0.         0.         0.\n",
      " 0.         0.         0.         0.         0.         0.\n",
      " 0.         0.         0.         0.         0.         0.\n",
      " 0.         0.         0.         0.         0.         0.\n",
      " 0.         0.         0.         0.         0.         0.\n",
      " 0.         0.         0.         0.         0.         0.\n",
      " 0.         0.         0.         0.         0.         0.\n",
      " 0.         0.         0.         0.         0.         0.\n",
      " 0.         0.         0.         0.         0.         0.\n",
      " 0.         0.         0.         0.         0.         0.\n",
      " 0.         0.         0.         0.         0.         0.\n",
      " 0.         0.         0.         0.         0.         0.\n",
      " 0.         0.         0.         0.         0.         0.\n",
      " 0.         0.         0.         0.         0.         0.\n",
      " 0.         0.         0.         0.         0.         0.\n",
      " 0.         0.         0.         0.         0.         0.\n",
      " 0.        ]\n"
     ]
    }
   ],
   "source": [
    "print(result)"
   ]
  },
  {
   "cell_type": "code",
   "execution_count": 39,
   "metadata": {
    "ExecuteTime": {
     "end_time": "2022-02-12T13:27:30.146030Z",
     "start_time": "2022-02-12T13:27:30.114666Z"
    }
   },
   "outputs": [
    {
     "data": {
      "text/plain": [
       "[(116, 0.09448226541280746),\n",
       " (8, 0.09299059957265854),\n",
       " (180, 0.07245595753192902),\n",
       " (137, 0.06240452080965042),\n",
       " (876, 0.06101685389876366),\n",
       " (604, 0.052845943719148636),\n",
       " (697, 0.05002279579639435),\n",
       " (40, 0.049057234078645706),\n",
       " (581, 0.04327135533094406)]"
      ]
     },
     "execution_count": 39,
     "metadata": {},
     "output_type": "execute_result"
    }
   ],
   "source": [
    "result"
   ]
  }
 ],
 "metadata": {
  "kernelspec": {
   "display_name": "Python 3",
   "language": "python",
   "name": "python3"
  },
  "language_info": {
   "codemirror_mode": {
    "name": "ipython",
    "version": 3
   },
   "file_extension": ".py",
   "mimetype": "text/x-python",
   "name": "python",
   "nbconvert_exporter": "python",
   "pygments_lexer": "ipython3",
   "version": "3.7.0"
  },
  "toc": {
   "base_numbering": 1,
   "nav_menu": {},
   "number_sections": true,
   "sideBar": true,
   "skip_h1_title": false,
   "title_cell": "Table of Contents",
   "title_sidebar": "Contents",
   "toc_cell": true,
   "toc_position": {},
   "toc_section_display": true,
   "toc_window_display": false
  },
  "varInspector": {
   "cols": {
    "lenName": 16,
    "lenType": 16,
    "lenVar": 40
   },
   "kernels_config": {
    "python": {
     "delete_cmd_postfix": "",
     "delete_cmd_prefix": "del ",
     "library": "var_list.py",
     "varRefreshCmd": "print(var_dic_list())"
    },
    "r": {
     "delete_cmd_postfix": ") ",
     "delete_cmd_prefix": "rm(",
     "library": "var_list.r",
     "varRefreshCmd": "cat(var_dic_list()) "
    }
   },
   "types_to_exclude": [
    "module",
    "function",
    "builtin_function_or_method",
    "instance",
    "_Feature"
   ],
   "window_display": false
  }
 },
 "nbformat": 4,
 "nbformat_minor": 2
}
